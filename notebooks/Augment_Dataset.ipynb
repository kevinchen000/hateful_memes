{
 "cells": [
  {
   "cell_type": "code",
   "execution_count": 164,
   "id": "18eef941-a24d-41b0-b37e-001b8baba898",
   "metadata": {},
   "outputs": [],
   "source": [
    "import json\n",
    "path_to_original_dataset = '/Users/anerishah/Desktop/DL/hateful-memes/datasets/hateful_memes'\n",
    "dev_unseen_file = open(f'{path_to_original_dataset}/dev_unseen.jsonl')\n",
    "dev_seen_file = open(f'{path_to_original_dataset}/dev_seen.jsonl')\n",
    "train_file = open(f'{path_to_original_dataset}/train.jsonl')\n",
    "dev_unseen = []\n",
    "dev_seen = []\n",
    "train = []\n",
    "for line in dev_unseen_file:\n",
    "    dev_unseen.append(json.loads(line))\n",
    "for line in dev_seen_file:\n",
    "    dev_seen.append(json.loads(line))\n",
    "for line in train_file:\n",
    "    train.append(json.loads(line))"
   ]
  },
  {
   "cell_type": "code",
   "execution_count": 194,
   "id": "32c5896c-780f-45a8-88f7-6c2f5fc3245f",
   "metadata": {},
   "outputs": [
    {
     "data": {
      "text/plain": [
       "'/Users/anerishah/Desktop/DL/hateful-memes/datasets/hateful_memes/train_dev_transform_all.jsonl'"
      ]
     },
     "execution_count": 194,
     "metadata": {},
     "output_type": "execute_result"
    }
   ],
   "source": [
    "import shutil\n",
    "shutil.copyfile(f'{path_to_original_dataset}/train.jsonl', f\"{path_to_original_dataset}/train_dev.jsonl\")\n",
    "shutil.copyfile(f'{path_to_original_dataset}/train.jsonl', f\"{path_to_original_dataset}/train_dev_transform_half.jsonl\")\n",
    "shutil.copyfile(f'{path_to_original_dataset}/train.jsonl', f\"{path_to_original_dataset}/train_dev_transform_all.jsonl\")\n",
    "shutil.copyfile(f'{path_to_original_dataset}/train.jsonl', f\"{path_to_original_dataset}/train_dev_transform_all_combined.jsonl\")"
   ]
  },
  {
   "cell_type": "code",
   "execution_count": 166,
   "id": "7f0015cb-8fb8-4d12-acf2-f9c87c2237a4",
   "metadata": {},
   "outputs": [],
   "source": [
    "dev_seen_ids = [i['id'] for i in dev_seen]\n",
    "dev_unseen_ids = [i['id'] for i in dev_unseen]"
   ]
  },
  {
   "cell_type": "code",
   "execution_count": 167,
   "id": "4fc3db84-56b5-4523-b834-4273c2d62a2e",
   "metadata": {},
   "outputs": [
    {
     "name": "stdout",
     "output_type": "stream",
     "text": [
      "original 8500\n"
     ]
    }
   ],
   "source": [
    "print(\"original\", len(train))\n",
    "train_dev = []\n",
    "for i in range(len(dev_seen_ids)):\n",
    "    seen_id = dev_seen_ids[i]\n",
    "    if seen_id not in dev_unseen_ids:\n",
    "        train_dev.append(dev_seen[i])"
   ]
  },
  {
   "cell_type": "code",
   "execution_count": 168,
   "id": "9fd6dbf3-7727-48a2-bc4b-4c34704dba75",
   "metadata": {},
   "outputs": [],
   "source": [
    "with open(f'{path_to_original_dataset}/train_dev.jsonl', \"a\") as train_dev_file:\n",
    "    for entry in train_dev:\n",
    "        json.dump(entry, train_dev_file)\n",
    "        train_dev_file.write(\"\\n\")"
   ]
  },
  {
   "cell_type": "code",
   "execution_count": 169,
   "id": "610513c2-51a3-4aa6-a6ce-d75909faea58",
   "metadata": {},
   "outputs": [],
   "source": [
    "import albumentations as A\n",
    "import cv2"
   ]
  },
  {
   "cell_type": "code",
   "execution_count": 181,
   "id": "cf694a76-9f68-4fed-b9df-16196c5ef443",
   "metadata": {},
   "outputs": [],
   "source": [
    "import matplotlib.pyplot as plt\n",
    "import random\n",
    "\n",
    "train_ids = [i['id'] for i in train_dev]\n",
    "train_size_original = len(train_dev)\n",
    "\n",
    "def visualize(image):\n",
    "    plt.figure(figsize=(10, 10))\n",
    "    plt.axis('off')\n",
    "    plt.imshow(image)\n",
    "\n",
    "images_folder = f'{path_to_original_dataset}/img/'\n",
    "target_images_folder = f'{path_to_original_dataset}/img/transform/'\n",
    "\n",
    "def transform_color(train):\n",
    "    for original in train:\n",
    "        img_id = original['id']\n",
    "        image = cv2.imread(images_folder + img_id + '.png')\n",
    "        image = cv2.cvtColor(image, cv2.COLOR_BGR2RGB)\n",
    "    \n",
    "        color_transform = A.Compose(\n",
    "            [A.AdvancedBlur(p=1),\n",
    "                A.OpticalDistortion(distort_limit=5, p=1),\n",
    "                A.HueSaturationValue(p=1)])\n",
    "\n",
    "        augmented_image = transform(image=image)['image']\n",
    "        cv2.imwrite(target_images_folder + 'color/' + img_id + '.png', augmented_image) \n",
    "\n",
    "def transform_geometric(train):\n",
    "    for original in train:\n",
    "        img_id = original['id']\n",
    "        image = cv2.imread(images_folder + img_id + '.png')\n",
    "        image = cv2.cvtColor(image, cv2.COLOR_BGR2RGB)\n",
    "    \n",
    "        color_transform = A.Compose(\n",
    "            [A.Transpose(p=1),\n",
    "                A.ElasticTransform(p=1),\n",
    "                A.ShiftScaleRotate(p=1),\n",
    "                A.Affine(shear=45, p=1)])\n",
    "        \n",
    "        augmented_image = transform(image=image)['image']\n",
    "        cv2.imwrite(target_images_folder + 'geo/' + img_id + '.png', augmented_image)\n",
    "\n",
    "def transform_color_geometric(train):\n",
    "    for original in train:\n",
    "        img_id = original['id']\n",
    "        image = cv2.imread(images_folder + img_id + '.png')\n",
    "        image = cv2.cvtColor(image, cv2.COLOR_BGR2RGB)\n",
    "\n",
    "        color_transform = A.Compose(\n",
    "            [A.AdvancedBlur(p=1),\n",
    "                A.OpticalDistortion(distort_limit=5, p=1),\n",
    "                A.HueSaturationValue(p=1),\n",
    "                A.Transpose(p=1),\n",
    "                A.ElasticTransform(p=1),\n",
    "                A.ShiftScaleRotate(p=1),\n",
    "                A.Affine(shear=45, p=1)])\n",
    "        \n",
    "        augmented_image = transform(image=image)['image']\n",
    "        cv2.imwrite(target_images_folder + 'comb/' + img_id + '.png', augmented_image)\n",
    "\n",
    "def write_to_json(datalist, path):\n",
    "    with open(path, \"a\") as f:\n",
    "        for entry in datalist:\n",
    "            json.dump(entry, f)\n",
    "            f.write(\"\\n\")"
   ]
  },
  {
   "cell_type": "code",
   "execution_count": 172,
   "id": "3da512d3-c3b2-4d8c-b3df-4012d7d508e1",
   "metadata": {},
   "outputs": [
    {
     "name": "stdout",
     "output_type": "stream",
     "text": [
      "8600\n"
     ]
    }
   ],
   "source": [
    "composite_train = train + train_dev\n",
    "print(len(composite_train))"
   ]
  },
  {
   "cell_type": "code",
   "execution_count": 184,
   "id": "7afada87-e203-4605-b00b-cdc5307e15aa",
   "metadata": {},
   "outputs": [],
   "source": [
    "transform_color(composite_train)"
   ]
  },
  {
   "cell_type": "code",
   "execution_count": 185,
   "id": "4b0b2a0f-35fe-43fc-b1fd-35272abb90a4",
   "metadata": {},
   "outputs": [],
   "source": [
    "transform_geometric(composite_train)"
   ]
  },
  {
   "cell_type": "code",
   "execution_count": 186,
   "id": "e03c2555-8612-4dcb-b834-cc314a042541",
   "metadata": {},
   "outputs": [],
   "source": [
    "transform_color_geometric(composite_train)"
   ]
  },
  {
   "cell_type": "code",
   "execution_count": 191,
   "id": "cd09d356-1969-4bf4-a6cd-4f896dcc6b1c",
   "metadata": {},
   "outputs": [],
   "source": [
    "# 50% randomly color augmented and 50% randomly geometrically augmented (2x the size of train_dev)\n",
    "def create_half_half_augmented(train):\n",
    "    augmented_list = []\n",
    "    train_size_original = len(train)\n",
    "    random_color_transform_idx = random.sample(range(1, train_size_original), round(0.5 * train_size_original))\n",
    "    random_geometric_transform_idx = random.sample(range(1, train_size_original), round(0.5 * train_size_original))\n",
    "    for idx in random_color_transform_idx:\n",
    "        original = train[idx]\n",
    "        img_id = original['id']\n",
    "        new_entry = original.copy()\n",
    "        new_entry['img'] = 'img/transform/color/' + img_id + '.png'\n",
    "        augmented_list.append(new_entry)\n",
    "    for idx in random_geometric_transform_idx:\n",
    "        original = train[idx]\n",
    "        img_id = original['id']\n",
    "        new_entry = original.copy()\n",
    "        new_entry['img'] = 'img/transform/geo/' + img_id + '.png'\n",
    "        augmented_list.append(new_entry)\n",
    "    print(len(augmented_list))\n",
    "    write_to_json(augmented_list, f'{path_to_original_dataset}/train_dev_transform_half.jsonl')\n",
    "\n",
    "# all pictures separately augmented with color transformations and geometric transformations (3x the size of train_dev)\n",
    "def create_all_augmented(train):\n",
    "    augmented_list = []\n",
    "    train_size_original = len(train)\n",
    "    for idx in range(len(train)):\n",
    "        original = train[idx]\n",
    "        img_id = original['id']\n",
    "\n",
    "        # add the color transformed image\n",
    "        new_color_entry = original.copy()\n",
    "        new_color_entry['img'] = 'img/transform/color/' + img_id + '.png'\n",
    "        augmented_list.append(new_color_entry)\n",
    "\n",
    "        # add the geometrically transformed image\n",
    "        new_geo_entry = original.copy()\n",
    "        new_geo_entry['img'] = 'img/transform/geo/' + img_id + '.png'\n",
    "        augmented_list.append(new_geo_entry)\n",
    "    print(len(augmented_list))\n",
    "    write_to_json(augmented_list, f'{path_to_original_dataset}/train_dev_transform_all.jsonl')\n",
    "\n",
    "# 1 with all pictures augmented with comined color and geometric transformation (2x the size of train_dev)\n",
    "def create_combined_augmented(train):\n",
    "    augmented_list = []\n",
    "    train_size_original = len(train)\n",
    "    for idx in range(len(train)):\n",
    "        original = train[idx]\n",
    "        img_id = original['id']\n",
    "\n",
    "        new_entry = original.copy()\n",
    "        new_entry['img'] = 'img/transform/comb/' + img_id + '.png'\n",
    "        augmented_list.append(new_entry)\n",
    "    print(len(augmented_list))\n",
    "    write_to_json(augmented_list, f'{path_to_original_dataset}/train_dev_transform_all_combined.jsonl')"
   ]
  },
  {
   "cell_type": "code",
   "execution_count": 188,
   "id": "c13755fd-48f7-4c4b-b890-994ad02625df",
   "metadata": {},
   "outputs": [
    {
     "name": "stdout",
     "output_type": "stream",
     "text": [
      "8600\n"
     ]
    }
   ],
   "source": [
    "create_half_half_augmented(composite_train)"
   ]
  },
  {
   "cell_type": "code",
   "execution_count": 195,
   "id": "90a8876c-a28e-473e-adb0-e210564e1bce",
   "metadata": {},
   "outputs": [
    {
     "name": "stdout",
     "output_type": "stream",
     "text": [
      "17200\n"
     ]
    }
   ],
   "source": [
    "create_all_augmented(composite_train)"
   ]
  },
  {
   "cell_type": "code",
   "execution_count": 190,
   "id": "cd2306df-2d8d-4383-bbf5-bd94cd43ee32",
   "metadata": {},
   "outputs": [
    {
     "name": "stdout",
     "output_type": "stream",
     "text": [
      "8600\n"
     ]
    }
   ],
   "source": [
    "create_combined_augmented(composite_train)"
   ]
  },
  {
   "cell_type": "code",
   "execution_count": 193,
   "id": "969f60a2-8839-478b-b293-445c26e69f16",
   "metadata": {},
   "outputs": [],
   "source": [
    "with open(f'{path_to_original_dataset}/train_dev_transform_all.jsonl', \"r\") as f:\n",
    "    db = f.readlines()\n",
    "    for idx, line in enumerate(db):\n",
    "        db[idx] = json.loads(line.strip(\"\\n\"))"
   ]
  },
  {
   "cell_type": "code",
   "execution_count": 174,
   "id": "85b6c28b-e16a-43f6-887f-0a2baca86fc5",
   "metadata": {},
   "outputs": [
    {
     "name": "stderr",
     "output_type": "stream",
     "text": [
      "[ WARN:0@605174.750] global loadsave.cpp:248 findDecoder imread_('/Users/anerishah/Desktop/DL/hateful-memes/datasets/hateful_memes/img/transform/color/42953.png'): can't open/read file: check file path/integrity\n"
     ]
    },
    {
     "ename": "TypeError",
     "evalue": "Image data of dtype object cannot be converted to float",
     "output_type": "error",
     "traceback": [
      "\u001b[0;31m---------------------------------------------------------------------------\u001b[0m",
      "\u001b[0;31mTypeError\u001b[0m                                 Traceback (most recent call last)",
      "Cell \u001b[0;32mIn[174], line 2\u001b[0m\n\u001b[1;32m      1\u001b[0m image \u001b[38;5;241m=\u001b[39m cv2\u001b[38;5;241m.\u001b[39mimread(target_images_folder \u001b[38;5;241m+\u001b[39m \u001b[38;5;124m'\u001b[39m\u001b[38;5;124mcolor/\u001b[39m\u001b[38;5;124m'\u001b[39m \u001b[38;5;241m+\u001b[39m train[\u001b[38;5;241m0\u001b[39m][\u001b[38;5;124m'\u001b[39m\u001b[38;5;124mid\u001b[39m\u001b[38;5;124m'\u001b[39m] \u001b[38;5;241m+\u001b[39m \u001b[38;5;124m'\u001b[39m\u001b[38;5;124m.png\u001b[39m\u001b[38;5;124m'\u001b[39m)\n\u001b[0;32m----> 2\u001b[0m \u001b[43mvisualize\u001b[49m\u001b[43m(\u001b[49m\u001b[43mimage\u001b[49m\u001b[43m)\u001b[49m\n",
      "Cell \u001b[0;32mIn[171], line 10\u001b[0m, in \u001b[0;36mvisualize\u001b[0;34m(image)\u001b[0m\n\u001b[1;32m      8\u001b[0m plt\u001b[38;5;241m.\u001b[39mfigure(figsize\u001b[38;5;241m=\u001b[39m(\u001b[38;5;241m10\u001b[39m, \u001b[38;5;241m10\u001b[39m))\n\u001b[1;32m      9\u001b[0m plt\u001b[38;5;241m.\u001b[39maxis(\u001b[38;5;124m'\u001b[39m\u001b[38;5;124moff\u001b[39m\u001b[38;5;124m'\u001b[39m)\n\u001b[0;32m---> 10\u001b[0m \u001b[43mplt\u001b[49m\u001b[38;5;241;43m.\u001b[39;49m\u001b[43mimshow\u001b[49m\u001b[43m(\u001b[49m\u001b[43mimage\u001b[49m\u001b[43m)\u001b[49m\n",
      "File \u001b[0;32m~/anaconda3/envs/a4/lib/python3.12/site-packages/matplotlib/pyplot.py:3346\u001b[0m, in \u001b[0;36mimshow\u001b[0;34m(X, cmap, norm, aspect, interpolation, alpha, vmin, vmax, origin, extent, interpolation_stage, filternorm, filterrad, resample, url, data, **kwargs)\u001b[0m\n\u001b[1;32m   3325\u001b[0m \u001b[38;5;129m@_copy_docstring_and_deprecators\u001b[39m(Axes\u001b[38;5;241m.\u001b[39mimshow)\n\u001b[1;32m   3326\u001b[0m \u001b[38;5;28;01mdef\u001b[39;00m \u001b[38;5;21mimshow\u001b[39m(\n\u001b[1;32m   3327\u001b[0m     X: ArrayLike \u001b[38;5;241m|\u001b[39m PIL\u001b[38;5;241m.\u001b[39mImage\u001b[38;5;241m.\u001b[39mImage,\n\u001b[0;32m   (...)\u001b[0m\n\u001b[1;32m   3344\u001b[0m     \u001b[38;5;241m*\u001b[39m\u001b[38;5;241m*\u001b[39mkwargs,\n\u001b[1;32m   3345\u001b[0m ) \u001b[38;5;241m-\u001b[39m\u001b[38;5;241m>\u001b[39m AxesImage:\n\u001b[0;32m-> 3346\u001b[0m     __ret \u001b[38;5;241m=\u001b[39m \u001b[43mgca\u001b[49m\u001b[43m(\u001b[49m\u001b[43m)\u001b[49m\u001b[38;5;241;43m.\u001b[39;49m\u001b[43mimshow\u001b[49m\u001b[43m(\u001b[49m\n\u001b[1;32m   3347\u001b[0m \u001b[43m        \u001b[49m\u001b[43mX\u001b[49m\u001b[43m,\u001b[49m\n\u001b[1;32m   3348\u001b[0m \u001b[43m        \u001b[49m\u001b[43mcmap\u001b[49m\u001b[38;5;241;43m=\u001b[39;49m\u001b[43mcmap\u001b[49m\u001b[43m,\u001b[49m\n\u001b[1;32m   3349\u001b[0m \u001b[43m        \u001b[49m\u001b[43mnorm\u001b[49m\u001b[38;5;241;43m=\u001b[39;49m\u001b[43mnorm\u001b[49m\u001b[43m,\u001b[49m\n\u001b[1;32m   3350\u001b[0m \u001b[43m        \u001b[49m\u001b[43maspect\u001b[49m\u001b[38;5;241;43m=\u001b[39;49m\u001b[43maspect\u001b[49m\u001b[43m,\u001b[49m\n\u001b[1;32m   3351\u001b[0m \u001b[43m        \u001b[49m\u001b[43minterpolation\u001b[49m\u001b[38;5;241;43m=\u001b[39;49m\u001b[43minterpolation\u001b[49m\u001b[43m,\u001b[49m\n\u001b[1;32m   3352\u001b[0m \u001b[43m        \u001b[49m\u001b[43malpha\u001b[49m\u001b[38;5;241;43m=\u001b[39;49m\u001b[43malpha\u001b[49m\u001b[43m,\u001b[49m\n\u001b[1;32m   3353\u001b[0m \u001b[43m        \u001b[49m\u001b[43mvmin\u001b[49m\u001b[38;5;241;43m=\u001b[39;49m\u001b[43mvmin\u001b[49m\u001b[43m,\u001b[49m\n\u001b[1;32m   3354\u001b[0m \u001b[43m        \u001b[49m\u001b[43mvmax\u001b[49m\u001b[38;5;241;43m=\u001b[39;49m\u001b[43mvmax\u001b[49m\u001b[43m,\u001b[49m\n\u001b[1;32m   3355\u001b[0m \u001b[43m        \u001b[49m\u001b[43morigin\u001b[49m\u001b[38;5;241;43m=\u001b[39;49m\u001b[43morigin\u001b[49m\u001b[43m,\u001b[49m\n\u001b[1;32m   3356\u001b[0m \u001b[43m        \u001b[49m\u001b[43mextent\u001b[49m\u001b[38;5;241;43m=\u001b[39;49m\u001b[43mextent\u001b[49m\u001b[43m,\u001b[49m\n\u001b[1;32m   3357\u001b[0m \u001b[43m        \u001b[49m\u001b[43minterpolation_stage\u001b[49m\u001b[38;5;241;43m=\u001b[39;49m\u001b[43minterpolation_stage\u001b[49m\u001b[43m,\u001b[49m\n\u001b[1;32m   3358\u001b[0m \u001b[43m        \u001b[49m\u001b[43mfilternorm\u001b[49m\u001b[38;5;241;43m=\u001b[39;49m\u001b[43mfilternorm\u001b[49m\u001b[43m,\u001b[49m\n\u001b[1;32m   3359\u001b[0m \u001b[43m        \u001b[49m\u001b[43mfilterrad\u001b[49m\u001b[38;5;241;43m=\u001b[39;49m\u001b[43mfilterrad\u001b[49m\u001b[43m,\u001b[49m\n\u001b[1;32m   3360\u001b[0m \u001b[43m        \u001b[49m\u001b[43mresample\u001b[49m\u001b[38;5;241;43m=\u001b[39;49m\u001b[43mresample\u001b[49m\u001b[43m,\u001b[49m\n\u001b[1;32m   3361\u001b[0m \u001b[43m        \u001b[49m\u001b[43murl\u001b[49m\u001b[38;5;241;43m=\u001b[39;49m\u001b[43murl\u001b[49m\u001b[43m,\u001b[49m\n\u001b[1;32m   3362\u001b[0m \u001b[43m        \u001b[49m\u001b[38;5;241;43m*\u001b[39;49m\u001b[38;5;241;43m*\u001b[39;49m\u001b[43m(\u001b[49m\u001b[43m{\u001b[49m\u001b[38;5;124;43m\"\u001b[39;49m\u001b[38;5;124;43mdata\u001b[39;49m\u001b[38;5;124;43m\"\u001b[39;49m\u001b[43m:\u001b[49m\u001b[43m \u001b[49m\u001b[43mdata\u001b[49m\u001b[43m}\u001b[49m\u001b[43m \u001b[49m\u001b[38;5;28;43;01mif\u001b[39;49;00m\u001b[43m \u001b[49m\u001b[43mdata\u001b[49m\u001b[43m \u001b[49m\u001b[38;5;129;43;01mis\u001b[39;49;00m\u001b[43m \u001b[49m\u001b[38;5;129;43;01mnot\u001b[39;49;00m\u001b[43m \u001b[49m\u001b[38;5;28;43;01mNone\u001b[39;49;00m\u001b[43m \u001b[49m\u001b[38;5;28;43;01melse\u001b[39;49;00m\u001b[43m \u001b[49m\u001b[43m{\u001b[49m\u001b[43m}\u001b[49m\u001b[43m)\u001b[49m\u001b[43m,\u001b[49m\n\u001b[1;32m   3363\u001b[0m \u001b[43m        \u001b[49m\u001b[38;5;241;43m*\u001b[39;49m\u001b[38;5;241;43m*\u001b[39;49m\u001b[43mkwargs\u001b[49m\u001b[43m,\u001b[49m\n\u001b[1;32m   3364\u001b[0m \u001b[43m    \u001b[49m\u001b[43m)\u001b[49m\n\u001b[1;32m   3365\u001b[0m     sci(__ret)\n\u001b[1;32m   3366\u001b[0m     \u001b[38;5;28;01mreturn\u001b[39;00m __ret\n",
      "File \u001b[0;32m~/anaconda3/envs/a4/lib/python3.12/site-packages/matplotlib/__init__.py:1465\u001b[0m, in \u001b[0;36m_preprocess_data.<locals>.inner\u001b[0;34m(ax, data, *args, **kwargs)\u001b[0m\n\u001b[1;32m   1462\u001b[0m \u001b[38;5;129m@functools\u001b[39m\u001b[38;5;241m.\u001b[39mwraps(func)\n\u001b[1;32m   1463\u001b[0m \u001b[38;5;28;01mdef\u001b[39;00m \u001b[38;5;21minner\u001b[39m(ax, \u001b[38;5;241m*\u001b[39margs, data\u001b[38;5;241m=\u001b[39m\u001b[38;5;28;01mNone\u001b[39;00m, \u001b[38;5;241m*\u001b[39m\u001b[38;5;241m*\u001b[39mkwargs):\n\u001b[1;32m   1464\u001b[0m     \u001b[38;5;28;01mif\u001b[39;00m data \u001b[38;5;129;01mis\u001b[39;00m \u001b[38;5;28;01mNone\u001b[39;00m:\n\u001b[0;32m-> 1465\u001b[0m         \u001b[38;5;28;01mreturn\u001b[39;00m \u001b[43mfunc\u001b[49m\u001b[43m(\u001b[49m\u001b[43max\u001b[49m\u001b[43m,\u001b[49m\u001b[43m \u001b[49m\u001b[38;5;241;43m*\u001b[39;49m\u001b[38;5;28;43mmap\u001b[39;49m\u001b[43m(\u001b[49m\u001b[43msanitize_sequence\u001b[49m\u001b[43m,\u001b[49m\u001b[43m \u001b[49m\u001b[43margs\u001b[49m\u001b[43m)\u001b[49m\u001b[43m,\u001b[49m\u001b[43m \u001b[49m\u001b[38;5;241;43m*\u001b[39;49m\u001b[38;5;241;43m*\u001b[39;49m\u001b[43mkwargs\u001b[49m\u001b[43m)\u001b[49m\n\u001b[1;32m   1467\u001b[0m     bound \u001b[38;5;241m=\u001b[39m new_sig\u001b[38;5;241m.\u001b[39mbind(ax, \u001b[38;5;241m*\u001b[39margs, \u001b[38;5;241m*\u001b[39m\u001b[38;5;241m*\u001b[39mkwargs)\n\u001b[1;32m   1468\u001b[0m     auto_label \u001b[38;5;241m=\u001b[39m (bound\u001b[38;5;241m.\u001b[39marguments\u001b[38;5;241m.\u001b[39mget(label_namer)\n\u001b[1;32m   1469\u001b[0m                   \u001b[38;5;129;01mor\u001b[39;00m bound\u001b[38;5;241m.\u001b[39mkwargs\u001b[38;5;241m.\u001b[39mget(label_namer))\n",
      "File \u001b[0;32m~/anaconda3/envs/a4/lib/python3.12/site-packages/matplotlib/axes/_axes.py:5751\u001b[0m, in \u001b[0;36mAxes.imshow\u001b[0;34m(self, X, cmap, norm, aspect, interpolation, alpha, vmin, vmax, origin, extent, interpolation_stage, filternorm, filterrad, resample, url, **kwargs)\u001b[0m\n\u001b[1;32m   5748\u001b[0m \u001b[38;5;28;01mif\u001b[39;00m aspect \u001b[38;5;129;01mis\u001b[39;00m \u001b[38;5;129;01mnot\u001b[39;00m \u001b[38;5;28;01mNone\u001b[39;00m:\n\u001b[1;32m   5749\u001b[0m     \u001b[38;5;28mself\u001b[39m\u001b[38;5;241m.\u001b[39mset_aspect(aspect)\n\u001b[0;32m-> 5751\u001b[0m \u001b[43mim\u001b[49m\u001b[38;5;241;43m.\u001b[39;49m\u001b[43mset_data\u001b[49m\u001b[43m(\u001b[49m\u001b[43mX\u001b[49m\u001b[43m)\u001b[49m\n\u001b[1;32m   5752\u001b[0m im\u001b[38;5;241m.\u001b[39mset_alpha(alpha)\n\u001b[1;32m   5753\u001b[0m \u001b[38;5;28;01mif\u001b[39;00m im\u001b[38;5;241m.\u001b[39mget_clip_path() \u001b[38;5;129;01mis\u001b[39;00m \u001b[38;5;28;01mNone\u001b[39;00m:\n\u001b[1;32m   5754\u001b[0m     \u001b[38;5;66;03m# image does not already have clipping set, clip to axes patch\u001b[39;00m\n",
      "File \u001b[0;32m~/anaconda3/envs/a4/lib/python3.12/site-packages/matplotlib/image.py:723\u001b[0m, in \u001b[0;36m_ImageBase.set_data\u001b[0;34m(self, A)\u001b[0m\n\u001b[1;32m    721\u001b[0m \u001b[38;5;28;01mif\u001b[39;00m \u001b[38;5;28misinstance\u001b[39m(A, PIL\u001b[38;5;241m.\u001b[39mImage\u001b[38;5;241m.\u001b[39mImage):\n\u001b[1;32m    722\u001b[0m     A \u001b[38;5;241m=\u001b[39m pil_to_array(A)  \u001b[38;5;66;03m# Needed e.g. to apply png palette.\u001b[39;00m\n\u001b[0;32m--> 723\u001b[0m \u001b[38;5;28mself\u001b[39m\u001b[38;5;241m.\u001b[39m_A \u001b[38;5;241m=\u001b[39m \u001b[38;5;28;43mself\u001b[39;49m\u001b[38;5;241;43m.\u001b[39;49m\u001b[43m_normalize_image_array\u001b[49m\u001b[43m(\u001b[49m\u001b[43mA\u001b[49m\u001b[43m)\u001b[49m\n\u001b[1;32m    724\u001b[0m \u001b[38;5;28mself\u001b[39m\u001b[38;5;241m.\u001b[39m_imcache \u001b[38;5;241m=\u001b[39m \u001b[38;5;28;01mNone\u001b[39;00m\n\u001b[1;32m    725\u001b[0m \u001b[38;5;28mself\u001b[39m\u001b[38;5;241m.\u001b[39mstale \u001b[38;5;241m=\u001b[39m \u001b[38;5;28;01mTrue\u001b[39;00m\n",
      "File \u001b[0;32m~/anaconda3/envs/a4/lib/python3.12/site-packages/matplotlib/image.py:688\u001b[0m, in \u001b[0;36m_ImageBase._normalize_image_array\u001b[0;34m(A)\u001b[0m\n\u001b[1;32m    686\u001b[0m A \u001b[38;5;241m=\u001b[39m cbook\u001b[38;5;241m.\u001b[39msafe_masked_invalid(A, copy\u001b[38;5;241m=\u001b[39m\u001b[38;5;28;01mTrue\u001b[39;00m)\n\u001b[1;32m    687\u001b[0m \u001b[38;5;28;01mif\u001b[39;00m A\u001b[38;5;241m.\u001b[39mdtype \u001b[38;5;241m!=\u001b[39m np\u001b[38;5;241m.\u001b[39muint8 \u001b[38;5;129;01mand\u001b[39;00m \u001b[38;5;129;01mnot\u001b[39;00m np\u001b[38;5;241m.\u001b[39mcan_cast(A\u001b[38;5;241m.\u001b[39mdtype, \u001b[38;5;28mfloat\u001b[39m, \u001b[38;5;124m\"\u001b[39m\u001b[38;5;124msame_kind\u001b[39m\u001b[38;5;124m\"\u001b[39m):\n\u001b[0;32m--> 688\u001b[0m     \u001b[38;5;28;01mraise\u001b[39;00m \u001b[38;5;167;01mTypeError\u001b[39;00m(\u001b[38;5;124mf\u001b[39m\u001b[38;5;124m\"\u001b[39m\u001b[38;5;124mImage data of dtype \u001b[39m\u001b[38;5;132;01m{\u001b[39;00mA\u001b[38;5;241m.\u001b[39mdtype\u001b[38;5;132;01m}\u001b[39;00m\u001b[38;5;124m cannot be \u001b[39m\u001b[38;5;124m\"\u001b[39m\n\u001b[1;32m    689\u001b[0m                     \u001b[38;5;124mf\u001b[39m\u001b[38;5;124m\"\u001b[39m\u001b[38;5;124mconverted to float\u001b[39m\u001b[38;5;124m\"\u001b[39m)\n\u001b[1;32m    690\u001b[0m \u001b[38;5;28;01mif\u001b[39;00m A\u001b[38;5;241m.\u001b[39mndim \u001b[38;5;241m==\u001b[39m \u001b[38;5;241m3\u001b[39m \u001b[38;5;129;01mand\u001b[39;00m A\u001b[38;5;241m.\u001b[39mshape[\u001b[38;5;241m-\u001b[39m\u001b[38;5;241m1\u001b[39m] \u001b[38;5;241m==\u001b[39m \u001b[38;5;241m1\u001b[39m:\n\u001b[1;32m    691\u001b[0m     A \u001b[38;5;241m=\u001b[39m A\u001b[38;5;241m.\u001b[39msqueeze(\u001b[38;5;241m-\u001b[39m\u001b[38;5;241m1\u001b[39m)  \u001b[38;5;66;03m# If just (M, N, 1), assume scalar and apply colormap.\u001b[39;00m\n",
      "\u001b[0;31mTypeError\u001b[0m: Image data of dtype object cannot be converted to float"
     ]
    },
    {
     "data": {
      "image/png": "[encoded data removed]",
      "text/plain": [
       "<Figure size 1000x1000 with 1 Axes>"
      ]
     },
     "metadata": {},
     "output_type": "display_data"
    }
   ],
   "source": [
    "image = cv2.imread(target_images_folder + 'color/' + train[0]['id'] + '.png')\n",
    "visualize(image)"
   ]
  },
  {
   "cell_type": "code",
   "execution_count": null,
   "id": "0ae001ea-8055-422e-81db-8cc452ec009b",
   "metadata": {},
   "outputs": [],
   "source": []
  }
 ],
 "metadata": {
  "kernelspec": {
   "display_name": "Python 3 (ipykernel)",
   "language": "python",
   "name": "python3"
  },
  "language_info": {
   "codemirror_mode": {
    "name": "ipython",
    "version": 3
   },
   "file_extension": ".py",
   "mimetype": "text/x-python",
   "name": "python",
   "nbconvert_exporter": "python",
   "pygments_lexer": "ipython3",
   "version": "3.12.2"
  }
 },
 "nbformat": 4,
 "nbformat_minor": 5
}
